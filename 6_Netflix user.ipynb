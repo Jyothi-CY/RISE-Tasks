{
 "cells": [
  {
   "cell_type": "code",
   "execution_count": 51,
   "id": "34872464-c355-4e69-bf81-b93218d5b4cc",
   "metadata": {},
   "outputs": [],
   "source": [
    "# Project 6: Netflix User Behavior Analysis\n",
    "# Problem Statement: Streaming services want to understand what content users prefer."
   ]
  },
  {
   "cell_type": "code",
   "execution_count": 52,
   "id": "29492ceb-caf3-4118-bdc1-461360075f74",
   "metadata": {},
   "outputs": [],
   "source": [
    "import pandas as pd\n",
    "import numpy as np\n",
    "import matplotlib.pyplot as plt\n",
    "import seaborn as sns"
   ]
  },
  {
   "cell_type": "code",
   "execution_count": 53,
   "id": "f92600fd-d1c9-42ba-bdfc-c4005a3fb71e",
   "metadata": {},
   "outputs": [
    {
     "data": {
      "text/html": [
       "<div>\n",
       "<style scoped>\n",
       "    .dataframe tbody tr th:only-of-type {\n",
       "        vertical-align: middle;\n",
       "    }\n",
       "\n",
       "    .dataframe tbody tr th {\n",
       "        vertical-align: top;\n",
       "    }\n",
       "\n",
       "    .dataframe thead th {\n",
       "        text-align: right;\n",
       "    }\n",
       "</style>\n",
       "<table border=\"1\" class=\"dataframe\">\n",
       "  <thead>\n",
       "    <tr style=\"text-align: right;\">\n",
       "      <th></th>\n",
       "      <th>user_id</th>\n",
       "      <th>title</th>\n",
       "      <th>genre</th>\n",
       "      <th>watch_count</th>\n",
       "      <th>watch_hours</th>\n",
       "      <th>last_watched</th>\n",
       "      <th>rating</th>\n",
       "      <th>liked</th>\n",
       "      <th>device</th>\n",
       "      <th>age_group</th>\n",
       "      <th>viewing_history</th>\n",
       "    </tr>\n",
       "  </thead>\n",
       "  <tbody>\n",
       "    <tr>\n",
       "      <th>0</th>\n",
       "      <td>U1</td>\n",
       "      <td>Forrest Gump</td>\n",
       "      <td>Drama</td>\n",
       "      <td>16</td>\n",
       "      <td>37.9</td>\n",
       "      <td>2025-03-31 10:31:25</td>\n",
       "      <td>NaN</td>\n",
       "      <td>False</td>\n",
       "      <td>smart-tv</td>\n",
       "      <td>36-45</td>\n",
       "      <td>[{\"timestamp\": \"2025-01-30 10:31\", \"duration_m...</td>\n",
       "    </tr>\n",
       "    <tr>\n",
       "      <th>1</th>\n",
       "      <td>U2</td>\n",
       "      <td>The Silence of the Lambs</td>\n",
       "      <td>Thriller</td>\n",
       "      <td>19</td>\n",
       "      <td>37.4</td>\n",
       "      <td>2025-06-15 10:31:25</td>\n",
       "      <td>3.0</td>\n",
       "      <td>True</td>\n",
       "      <td>tablet</td>\n",
       "      <td>56+</td>\n",
       "      <td>[{\"timestamp\": \"2025-05-05 10:31\", \"duration_m...</td>\n",
       "    </tr>\n",
       "    <tr>\n",
       "      <th>2</th>\n",
       "      <td>U3</td>\n",
       "      <td>Se7en</td>\n",
       "      <td>Thriller</td>\n",
       "      <td>15</td>\n",
       "      <td>31.8</td>\n",
       "      <td>2025-04-19 10:31:25</td>\n",
       "      <td>4.0</td>\n",
       "      <td>False</td>\n",
       "      <td>laptop</td>\n",
       "      <td>36-45</td>\n",
       "      <td>[{\"timestamp\": \"2025-03-17 10:31\", \"duration_m...</td>\n",
       "    </tr>\n",
       "    <tr>\n",
       "      <th>3</th>\n",
       "      <td>U4</td>\n",
       "      <td>Inception</td>\n",
       "      <td>Sci-Fi</td>\n",
       "      <td>11</td>\n",
       "      <td>27.1</td>\n",
       "      <td>2025-06-12 10:31:25</td>\n",
       "      <td>1.0</td>\n",
       "      <td>True</td>\n",
       "      <td>mobile</td>\n",
       "      <td>36-45</td>\n",
       "      <td>[{\"timestamp\": \"2025-05-19 10:31\", \"duration_m...</td>\n",
       "    </tr>\n",
       "    <tr>\n",
       "      <th>4</th>\n",
       "      <td>U5</td>\n",
       "      <td>The Godfather</td>\n",
       "      <td>Crime</td>\n",
       "      <td>10</td>\n",
       "      <td>29.2</td>\n",
       "      <td>2025-04-13 10:31:25</td>\n",
       "      <td>2.0</td>\n",
       "      <td>False</td>\n",
       "      <td>gaming-console</td>\n",
       "      <td>36-45</td>\n",
       "      <td>[{\"timestamp\": \"2025-02-16 10:31\", \"duration_m...</td>\n",
       "    </tr>\n",
       "  </tbody>\n",
       "</table>\n",
       "</div>"
      ],
      "text/plain": [
       "  user_id                     title     genre  watch_count  watch_hours  \\\n",
       "0      U1              Forrest Gump     Drama           16         37.9   \n",
       "1      U2  The Silence of the Lambs  Thriller           19         37.4   \n",
       "2      U3                     Se7en  Thriller           15         31.8   \n",
       "3      U4                 Inception    Sci-Fi           11         27.1   \n",
       "4      U5             The Godfather     Crime           10         29.2   \n",
       "\n",
       "          last_watched  rating  liked          device age_group  \\\n",
       "0  2025-03-31 10:31:25     NaN  False        smart-tv     36-45   \n",
       "1  2025-06-15 10:31:25     3.0   True          tablet       56+   \n",
       "2  2025-04-19 10:31:25     4.0  False          laptop     36-45   \n",
       "3  2025-06-12 10:31:25     1.0   True          mobile     36-45   \n",
       "4  2025-04-13 10:31:25     2.0  False  gaming-console     36-45   \n",
       "\n",
       "                                     viewing_history  \n",
       "0  [{\"timestamp\": \"2025-01-30 10:31\", \"duration_m...  \n",
       "1  [{\"timestamp\": \"2025-05-05 10:31\", \"duration_m...  \n",
       "2  [{\"timestamp\": \"2025-03-17 10:31\", \"duration_m...  \n",
       "3  [{\"timestamp\": \"2025-05-19 10:31\", \"duration_m...  \n",
       "4  [{\"timestamp\": \"2025-02-16 10:31\", \"duration_m...  "
      ]
     },
     "execution_count": 53,
     "metadata": {},
     "output_type": "execute_result"
    }
   ],
   "source": [
    "df = pd.read_csv(\"E:/AICTE Intern Tasks/RISE/Datasets/6_Netflix.csv\")\n",
    "df.head()"
   ]
  },
  {
   "cell_type": "code",
   "execution_count": 54,
   "id": "e5819bcf-0ab0-4a26-a98c-28f5e3057d67",
   "metadata": {},
   "outputs": [
    {
     "data": {
      "text/plain": [
       "(500, 11)"
      ]
     },
     "execution_count": 54,
     "metadata": {},
     "output_type": "execute_result"
    }
   ],
   "source": [
    "df.shape"
   ]
  },
  {
   "cell_type": "code",
   "execution_count": 55,
   "id": "b7bcfcbc-c0b8-4b15-a02f-c8373c06dfa6",
   "metadata": {},
   "outputs": [
    {
     "data": {
      "text/plain": [
       "Index(['user_id', 'title', 'genre', 'watch_count', 'watch_hours',\n",
       "       'last_watched', 'rating', 'liked', 'device', 'age_group',\n",
       "       'viewing_history'],\n",
       "      dtype='object')"
      ]
     },
     "execution_count": 55,
     "metadata": {},
     "output_type": "execute_result"
    }
   ],
   "source": [
    "df.columns"
   ]
  },
  {
   "cell_type": "code",
   "execution_count": 56,
   "id": "8c1fcfa3-09ef-48b2-aae8-e33603fe6efe",
   "metadata": {},
   "outputs": [
    {
     "name": "stdout",
     "output_type": "stream",
     "text": [
      "<class 'pandas.core.frame.DataFrame'>\n",
      "RangeIndex: 500 entries, 0 to 499\n",
      "Data columns (total 11 columns):\n",
      " #   Column           Non-Null Count  Dtype  \n",
      "---  ------           --------------  -----  \n",
      " 0   user_id          500 non-null    object \n",
      " 1   title            500 non-null    object \n",
      " 2   genre            500 non-null    object \n",
      " 3   watch_count      500 non-null    int64  \n",
      " 4   watch_hours      500 non-null    float64\n",
      " 5   last_watched     500 non-null    object \n",
      " 6   rating           419 non-null    float64\n",
      " 7   liked            500 non-null    bool   \n",
      " 8   device           500 non-null    object \n",
      " 9   age_group        500 non-null    object \n",
      " 10  viewing_history  500 non-null    object \n",
      "dtypes: bool(1), float64(2), int64(1), object(7)\n",
      "memory usage: 39.7+ KB\n"
     ]
    }
   ],
   "source": [
    "df.info()"
   ]
  },
  {
   "cell_type": "code",
   "execution_count": 57,
   "id": "d4400e29-9cd0-4a7e-b4c8-f02b01148e30",
   "metadata": {},
   "outputs": [
    {
     "data": {
      "text/plain": [
       "user_id             object\n",
       "title               object\n",
       "genre               object\n",
       "watch_count          int64\n",
       "watch_hours        float64\n",
       "last_watched        object\n",
       "rating             float64\n",
       "liked                 bool\n",
       "device              object\n",
       "age_group           object\n",
       "viewing_history     object\n",
       "dtype: object"
      ]
     },
     "execution_count": 57,
     "metadata": {},
     "output_type": "execute_result"
    }
   ],
   "source": [
    "df.dtypes"
   ]
  },
  {
   "cell_type": "code",
   "execution_count": 58,
   "id": "a01c27e8-e250-4cf7-b899-00550985e6ec",
   "metadata": {},
   "outputs": [
    {
     "data": {
      "text/html": [
       "<div>\n",
       "<style scoped>\n",
       "    .dataframe tbody tr th:only-of-type {\n",
       "        vertical-align: middle;\n",
       "    }\n",
       "\n",
       "    .dataframe tbody tr th {\n",
       "        vertical-align: top;\n",
       "    }\n",
       "\n",
       "    .dataframe thead th {\n",
       "        text-align: right;\n",
       "    }\n",
       "</style>\n",
       "<table border=\"1\" class=\"dataframe\">\n",
       "  <thead>\n",
       "    <tr style=\"text-align: right;\">\n",
       "      <th></th>\n",
       "      <th>watch_count</th>\n",
       "      <th>watch_hours</th>\n",
       "      <th>rating</th>\n",
       "    </tr>\n",
       "  </thead>\n",
       "  <tbody>\n",
       "    <tr>\n",
       "      <th>count</th>\n",
       "      <td>500.000000</td>\n",
       "      <td>500.000000</td>\n",
       "      <td>419.000000</td>\n",
       "    </tr>\n",
       "    <tr>\n",
       "      <th>mean</th>\n",
       "      <td>10.666000</td>\n",
       "      <td>25.364600</td>\n",
       "      <td>3.026253</td>\n",
       "    </tr>\n",
       "    <tr>\n",
       "      <th>std</th>\n",
       "      <td>5.800494</td>\n",
       "      <td>14.292179</td>\n",
       "      <td>1.409733</td>\n",
       "    </tr>\n",
       "    <tr>\n",
       "      <th>min</th>\n",
       "      <td>1.000000</td>\n",
       "      <td>2.000000</td>\n",
       "      <td>1.000000</td>\n",
       "    </tr>\n",
       "    <tr>\n",
       "      <th>25%</th>\n",
       "      <td>6.000000</td>\n",
       "      <td>14.075000</td>\n",
       "      <td>2.000000</td>\n",
       "    </tr>\n",
       "    <tr>\n",
       "      <th>50%</th>\n",
       "      <td>10.000000</td>\n",
       "      <td>24.350000</td>\n",
       "      <td>3.000000</td>\n",
       "    </tr>\n",
       "    <tr>\n",
       "      <th>75%</th>\n",
       "      <td>16.000000</td>\n",
       "      <td>37.400000</td>\n",
       "      <td>4.000000</td>\n",
       "    </tr>\n",
       "    <tr>\n",
       "      <th>max</th>\n",
       "      <td>20.000000</td>\n",
       "      <td>58.300000</td>\n",
       "      <td>5.000000</td>\n",
       "    </tr>\n",
       "  </tbody>\n",
       "</table>\n",
       "</div>"
      ],
      "text/plain": [
       "       watch_count  watch_hours      rating\n",
       "count   500.000000   500.000000  419.000000\n",
       "mean     10.666000    25.364600    3.026253\n",
       "std       5.800494    14.292179    1.409733\n",
       "min       1.000000     2.000000    1.000000\n",
       "25%       6.000000    14.075000    2.000000\n",
       "50%      10.000000    24.350000    3.000000\n",
       "75%      16.000000    37.400000    4.000000\n",
       "max      20.000000    58.300000    5.000000"
      ]
     },
     "execution_count": 58,
     "metadata": {},
     "output_type": "execute_result"
    }
   ],
   "source": [
    "df.describe()"
   ]
  },
  {
   "cell_type": "code",
   "execution_count": 59,
   "id": "2ae1c587-67a8-4229-aa4f-a68f0d603afc",
   "metadata": {},
   "outputs": [
    {
     "data": {
      "text/plain": [
       "user_id             0\n",
       "title               0\n",
       "genre               0\n",
       "watch_count         0\n",
       "watch_hours         0\n",
       "last_watched        0\n",
       "rating             81\n",
       "liked               0\n",
       "device              0\n",
       "age_group           0\n",
       "viewing_history     0\n",
       "dtype: int64"
      ]
     },
     "execution_count": 59,
     "metadata": {},
     "output_type": "execute_result"
    }
   ],
   "source": [
    "# check for missing values\n",
    "\n",
    "df.isnull().sum()"
   ]
  },
  {
   "cell_type": "code",
   "execution_count": 60,
   "id": "646a3b6a-ab91-440f-b184-60023aec9167",
   "metadata": {},
   "outputs": [
    {
     "name": "stdout",
     "output_type": "stream",
     "text": [
      "Missing values before imputation:\n",
      "81\n"
     ]
    }
   ],
   "source": [
    "print(\"Missing values before imputation:\")\n",
    "print(df['rating'].isnull().sum())"
   ]
  },
  {
   "cell_type": "code",
   "execution_count": 61,
   "id": "3e328343-41e3-4c9b-81d9-1c212f1136d3",
   "metadata": {},
   "outputs": [],
   "source": [
    "df['rating'] = df['rating'].fillna(df['rating'].median()).round().astype(int).clip(1, 5)"
   ]
  },
  {
   "cell_type": "code",
   "execution_count": 62,
   "id": "16cbd22f-cc36-4ad8-80c5-c9d2f174ebf6",
   "metadata": {},
   "outputs": [
    {
     "data": {
      "text/plain": [
       "user_id            0\n",
       "title              0\n",
       "genre              0\n",
       "watch_count        0\n",
       "watch_hours        0\n",
       "last_watched       0\n",
       "rating             0\n",
       "liked              0\n",
       "device             0\n",
       "age_group          0\n",
       "viewing_history    0\n",
       "dtype: int64"
      ]
     },
     "execution_count": 62,
     "metadata": {},
     "output_type": "execute_result"
    }
   ],
   "source": [
    "df.isnull().sum()"
   ]
  },
  {
   "cell_type": "code",
   "execution_count": 63,
   "id": "e4e0663c-fdfa-4156-9304-aa85679703e3",
   "metadata": {},
   "outputs": [],
   "source": [
    "# Data Cleaning and Preparation\n",
    "# Fix datetime format (your dates are in DD-MM-YYYY HH:MM:SS format)\n",
    "df['last_watched'] = pd.to_datetime(df['last_watched'], format='%Y-%m-%d %H:%M:%S')"
   ]
  },
  {
   "cell_type": "code",
   "execution_count": 64,
   "id": "d9eb3387-2b8f-4464-b2f4-287dc909727f",
   "metadata": {},
   "outputs": [],
   "source": [
    "# Convert viewing_history from string to actual list of dictionaries\n",
    "df['viewing_history'] = df['viewing_history'].apply(\n",
    "    lambda x: eval(x) if isinstance(x, str) else x\n",
    ")"
   ]
  },
  {
   "cell_type": "code",
   "execution_count": null,
   "id": "e6386f7e-9054-4eba-b984-8d7d4203f468",
   "metadata": {},
   "outputs": [],
   "source": []
  },
  {
   "cell_type": "code",
   "execution_count": 65,
   "id": "395f5b55-2555-4b74-9d90-07b45af49654",
   "metadata": {},
   "outputs": [
    {
     "name": "stdout",
     "output_type": "stream",
     "text": [
      "Top 10 Genres:\n",
      "genre\n",
      "Sci-Fi      151\n",
      "Thriller    104\n",
      "Drama       101\n",
      "Action       99\n",
      "Crime        45\n",
      "Name: count, dtype: int64\n"
     ]
    }
   ],
   "source": [
    "# Analysis 1: Top Genres\n",
    "genre_counts = df['genre'].value_counts().head(10)\n",
    "print(\"Top 10 Genres:\")\n",
    "print(genre_counts)"
   ]
  },
  {
   "cell_type": "code",
   "execution_count": 66,
   "id": "8975410c-1037-472b-a0ca-1d7c5761ac6b",
   "metadata": {},
   "outputs": [
    {
     "name": "stdout",
     "output_type": "stream",
     "text": [
      "\n",
      "Watch Hours Statistics:\n",
      "count    500.000000\n",
      "mean      25.364600\n",
      "std       14.292179\n",
      "min        2.000000\n",
      "25%       14.075000\n",
      "50%       24.350000\n",
      "75%       37.400000\n",
      "max       58.300000\n",
      "Name: watch_hours, dtype: float64\n"
     ]
    }
   ],
   "source": [
    "# Analysis 2: Watch Hours per User\n",
    "watch_hours_stats = df['watch_hours'].describe()\n",
    "print(\"\\nWatch Hours Statistics:\")\n",
    "print(watch_hours_stats)"
   ]
  },
  {
   "cell_type": "code",
   "execution_count": 67,
   "id": "4206d425-1062-498a-8a49-e6e10d88c751",
   "metadata": {},
   "outputs": [
    {
     "name": "stdout",
     "output_type": "stream",
     "text": [
      "\n",
      "Binge Users (top 25% with watch_count >= 16.0):\n",
      "    user_id                     title  watch_count\n",
      "28      U29           The Dark Knight           20\n",
      "169    U170           The Dark Knight           20\n",
      "170    U171                 Inception           20\n",
      "129    U130             The Godfather           20\n",
      "140    U141                The Matrix           20\n",
      "97      U98        Mad Max: Fury Road           20\n",
      "66      U67  The Silence of the Lambs           20\n",
      "45      U46              Interstellar           20\n",
      "33      U34              Interstellar           20\n",
      "419    U420                The Matrix           20\n"
     ]
    }
   ],
   "source": [
    "# Analysis 3: Binge Behavior (users with high watch counts)\n",
    "binge_threshold = df['watch_count'].quantile(0.75)  # Top 25% watch counts\n",
    "binge_users = df[df['watch_count'] >= binge_threshold]\n",
    "print(f\"\\nBinge Users (top 25% with watch_count >= {binge_threshold}):\")\n",
    "print(binge_users[['user_id', 'title', 'watch_count']].sort_values('watch_count', ascending=False).head(10))"
   ]
  },
  {
   "cell_type": "code",
   "execution_count": 68,
   "id": "0c050ef1-485b-4ce0-9043-bf9be31e6141",
   "metadata": {},
   "outputs": [
    {
     "name": "stdout",
     "output_type": "stream",
     "text": [
      "\n",
      "Average Rating by Genre:\n",
      "genre\n",
      "Action      3.171717\n",
      "Thriller    3.057692\n",
      "Sci-Fi      3.033113\n",
      "Crime       2.955556\n",
      "Drama       2.851485\n",
      "Name: rating, dtype: float64\n"
     ]
    }
   ],
   "source": [
    "# Analysis 4: Ratings vs Genres\n",
    "avg_rating_by_genre = df.groupby('genre')['rating'].mean().sort_values(ascending=False).head(10)\n",
    "print(\"\\nAverage Rating by Genre:\")\n",
    "print(avg_rating_by_genre)"
   ]
  },
  {
   "cell_type": "code",
   "execution_count": null,
   "id": "f839607a-9712-4aca-91d7-4084ba6538ec",
   "metadata": {},
   "outputs": [],
   "source": []
  },
  {
   "cell_type": "code",
   "execution_count": 72,
   "id": "f57cf6fc-1f87-49c2-818c-b12eb156b612",
   "metadata": {},
   "outputs": [
    {
     "data": {
      "image/png": "[encoded data removed]",
      "text/plain": [
       "<Figure size 700x500 with 1 Axes>"
      ]
     },
     "metadata": {},
     "output_type": "display_data"
    }
   ],
   "source": [
    "# Visualization 1: Top Genres\n",
    "plt.figure(figsize=(7, 5))\n",
    "sns.barplot(x=genre_counts.index, y=genre_counts.values)\n",
    "plt.title('Top 10 Most Watched Genres')\n",
    "plt.xlabel('Genre')\n",
    "plt.ylabel('Number of Views')\n",
    "plt.xticks(rotation=45)\n",
    "plt.tight_layout()\n",
    "plt.savefig('top_genres.png')\n",
    "plt.show()"
   ]
  },
  {
   "cell_type": "code",
   "execution_count": 73,
   "id": "cb47c3d3-33df-4682-8e02-7133cebe6482",
   "metadata": {},
   "outputs": [
    {
     "data": {
      "image/png": "[encoded data removed]",
      "text/plain": [
       "<Figure size 1000x600 with 1 Axes>"
      ]
     },
     "metadata": {},
     "output_type": "display_data"
    }
   ],
   "source": [
    "# Visualization 2: Watch Hours Distribution\n",
    "plt.figure(figsize=(10, 6))\n",
    "sns.histplot(df['watch_hours'], bins=20, kde=True)\n",
    "plt.title('Distribution of Watch Hours per User')\n",
    "plt.xlabel('Watch Hours')\n",
    "plt.ylabel('Number of Users')\n",
    "plt.tight_layout()\n",
    "plt.savefig('watch_hours_distribution.png')\n",
    "plt.show()"
   ]
  },
  {
   "cell_type": "code",
   "execution_count": 74,
   "id": "2380b04a-75fd-4ebe-b307-04b937df4708",
   "metadata": {},
   "outputs": [
    {
     "data": {
      "image/png": "[encoded data removed]",
      "text/plain": [
       "<Figure size 1200x600 with 1 Axes>"
      ]
     },
     "metadata": {},
     "output_type": "display_data"
    }
   ],
   "source": [
    "# Visualization 3: Ratings vs Genres\n",
    "plt.figure(figsize=(12, 6))\n",
    "sns.boxplot(x='genre', y='rating', data=df[df['genre'].isin(genre_counts.index[:5])])\n",
    "plt.title('Rating Distribution by Top Genres')\n",
    "plt.xlabel('Genre')\n",
    "plt.ylabel('Rating')\n",
    "plt.xticks(rotation=45)\n",
    "plt.tight_layout()\n",
    "plt.savefig('ratings_by_genre.png')\n",
    "plt.show()"
   ]
  },
  {
   "cell_type": "code",
   "execution_count": 77,
   "id": "3f443aaf-27cd-4b57-8082-f199a08aa976",
   "metadata": {},
   "outputs": [
    {
     "data": {
      "image/png": "[encoded data removed]",
      "text/plain": [
       "<Figure size 1200x600 with 1 Axes>"
      ]
     },
     "metadata": {},
     "output_type": "display_data"
    }
   ],
   "source": [
    "# Visualization 4: Device Preference by Age Group\n",
    "plt.figure(figsize=(12, 6))\n",
    "sns.countplot(x='age_group', hue='device', data=df)\n",
    "plt.title('Device Preference by Age Group')\n",
    "plt.xlabel('Age Group')\n",
    "plt.ylabel('Count')\n",
    "plt.tight_layout()\n",
    "plt.savefig('device_by_age.png')\n",
    "plt.show()"
   ]
  },
  {
   "cell_type": "code",
   "execution_count": 78,
   "id": "73a6e7c8-26d9-4c6c-9cd4-e1770985e4e9",
   "metadata": {},
   "outputs": [
    {
     "name": "stdout",
     "output_type": "stream",
     "text": [
      "\n",
      "Average viewing sessions per user: 3.0\n"
     ]
    }
   ],
   "source": [
    "# Additional Analysis: Viewing Patterns\n",
    "df['viewing_count'] = df['viewing_history'].apply(len)\n",
    "avg_views_per_user = df.groupby('user_id')['viewing_count'].sum().mean()\n",
    "print(f\"\\nAverage viewing sessions per user: {avg_views_per_user:.1f}\")"
   ]
  },
  {
   "cell_type": "code",
   "execution_count": null,
   "id": "bf0b7386-02b5-4234-a540-42fe80964345",
   "metadata": {},
   "outputs": [],
   "source": []
  },
  {
   "cell_type": "code",
   "execution_count": null,
   "id": "164e203f-4445-43f6-a99b-4961ce556149",
   "metadata": {},
   "outputs": [],
   "source": [
    "# Save cleaned dataset\n",
    "# df.to_csv('cleaned_netflix_data.csv', index=False)"
   ]
  }
 ],
 "metadata": {
  "kernelspec": {
   "display_name": "Python 3 (ipykernel)",
   "language": "python",
   "name": "python3"
  },
  "language_info": {
   "codemirror_mode": {
    "name": "ipython",
    "version": 3
   },
   "file_extension": ".py",
   "mimetype": "text/x-python",
   "name": "python",
   "nbconvert_exporter": "python",
   "pygments_lexer": "ipython3",
   "version": "3.13.4"
  }
 },
 "nbformat": 4,
 "nbformat_minor": 5
}
