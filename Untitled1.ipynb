{
 "cells": [
  {
   "cell_type": "code",
   "execution_count": 1,
   "id": "661a9ee4-8218-4d1c-84c9-ef571df9e39f",
   "metadata": {},
   "outputs": [],
   "source": [
    "import pandas as pd\n",
    "import random\n",
    "\n"
   ]
  },
  {
   "cell_type": "code",
   "execution_count": 2,
   "id": "c9c0c8e0-eb95-4f56-937b-d8ab33b1fa29",
   "metadata": {},
   "outputs": [],
   "source": [
    "\n",
    "# Define show-to-genre mapping\n",
    "show_genre_mapping = {\n",
    "    \"Stranger Things\": \"Sci-Fi\",\n",
    "    \"Breaking Bad\": \"Crime\",\n",
    "    \"The Crown\": \"Drama\",\n",
    "    \"Money Heist\": \"Action\",\n",
    "    \"Dark\": \"Sci-Fi\",\n",
    "    \"The Witcher\": \"Fantasy\",\n",
    "    \"Friends\": \"Comedy\",\n",
    "    \"The Office\": \"Comedy\",\n",
    "    \"BoJack Horseman\": \"Animation\",\n",
    "    \"Narcos\": \"Crime\",\n",
    "    \"Black Mirror\": \"Sci-Fi\",\n",
    "    \"You\": \"Thriller\",\n",
    "    \"Sex Education\": \"Comedy\",\n",
    "    \"Bridgerton\": \"Romance\",\n",
    "    \"Lucifer\": \"Drama\",\n",
    "    \"The Queen's Gambit\": \"Drama\",\n",
    "    \"Emily in Paris\": \"Romance\",\n",
    "    \"Peaky Blinders\": \"Crime\",\n",
    "    \"The Umbrella Academy\": \"Action\",\n",
    "    \"Ozark\": \"Crime\",\n",
    "    \"Squid Game\": \"Thriller\",\n",
    "    \"The Sandman\": \"Fantasy\",\n",
    "    \"Shadow and Bone\": \"Fantasy\",\n",
    "    \"Outer Banks\": \"Action\",\n",
    "    \"The Recruit\": \"Thriller\",\n",
    "    \"Ginny & Georgia\": \"Drama\",\n",
    "    \"Locke & Key\": \"Fantasy\",\n",
    "    \"Never Have I Ever\": \"Comedy\",\n",
    "    \"The Lincoln Lawyer\": \"Crime\",\n",
    "    \"Manifest\": \"Mystery\"\n",
    "}"
   ]
  },
  {
   "cell_type": "code",
   "execution_count": 3,
   "id": "a4c70bbf-50d9-4328-96a4-308ccf7d5836",
   "metadata": {},
   "outputs": [],
   "source": [
    "\n",
    "# Generate user IDs\n",
    "user_ids = [f\"user_{i+1}\" for i in range(200)]\n",
    "\n"
   ]
  },
  {
   "cell_type": "code",
   "execution_count": 4,
   "id": "f94441f9-ca1a-4837-a775-d0fb74df2a52",
   "metadata": {},
   "outputs": [],
   "source": [
    "\n",
    "# Generate dataset with 1000 entries\n",
    "data = []\n",
    "for _ in range(1000):\n",
    "    user = random.choice(user_ids)\n",
    "    show = random.choice(list(show_genre_mapping.keys()))\n",
    "    genre = show_genre_mapping[show]\n",
    "    watch_count = random.randint(1, 12)\n",
    "    watch_hours = round(watch_count * random.uniform(0.5, 3.0), 2)\n",
    "    last_watched = pd.Timestamp(\"2025-01-01\") + pd.to_timedelta(random.randint(0, 180), unit=\"D\")\n",
    "    rating = random.choice([1, 2, 3, 4, 5])\n",
    "    binge_score = round(random.uniform(0.1, 1.0), 2)\n",
    "    liked = random.choice([\"Yes\", \"No\"])\n",
    "    device = random.choice([\"Mobile\", \"TV\", \"Laptop\", \"Tablet\"])\n",
    "    age_group = random.choice([\"Teen\", \"Young Adult\", \"Adult\", \"Senior\"])\n",
    "    viewing_history = \", \".join(random.sample(list(show_genre_mapping.keys()), k=random.randint(3, 10)))\n",
    "\n",
    "    data.append([\n",
    "        user, show, genre, watch_count, watch_hours, last_watched.date(), rating,\n",
    "        binge_score, liked, device, age_group, viewing_history\n",
    "    ])\n"
   ]
  },
  {
   "cell_type": "code",
   "execution_count": 5,
   "id": "fadd1aff-b3d4-4547-82f5-9dd91e75dd25",
   "metadata": {},
   "outputs": [],
   "source": [
    "\n",
    "# Create DataFrame\n",
    "columns = [\n",
    "    \"user_id\", \"show_title\", \"genre\", \"watch_count\", \"watch_hours\",\n",
    "    \"last_watched_date\", \"rating\", \"binge_score\", \"liked\", \"device\",\n",
    "    \"age_group\", \"viewing_history\"\n",
    "]\n",
    "df = pd.DataFrame(data, columns=columns)"
   ]
  },
  {
   "cell_type": "code",
   "execution_count": 6,
   "id": "01a0231f-3391-4e37-9e5b-fc2ad96fb5b6",
   "metadata": {},
   "outputs": [
    {
     "name": "stdout",
     "output_type": "stream",
     "text": [
      "✅ CSV file 'netflix_user_behavior_final_1000.csv' has been created.\n"
     ]
    }
   ],
   "source": [
    "\n",
    "# Save to CSV\n",
    "df.to_csv(\"netflix_user_behavior_final_1000.csv\", index=False)\n",
    "print(\"✅ CSV file 'netflix_user_behavior_final_1000.csv' has been created.\")\n"
   ]
  },
  {
   "cell_type": "code",
   "execution_count": null,
   "id": "ad40c49d-4731-4a6e-ac32-510898dfcf03",
   "metadata": {},
   "outputs": [],
   "source": []
  },
  {
   "cell_type": "code",
   "execution_count": 3,
   "id": "991d90e9-c8c6-4091-aa5f-3fc0ee04b0d6",
   "metadata": {},
   "outputs": [],
   "source": [
    "import pandas as pd\n",
    "import numpy as np\n",
    "import random\n",
    "from datetime import datetime, timedelta\n",
    "import json\n",
    "\n",
    "# Expanded movie list (100+ popular movies)\n",
    "movies = [\n",
    "    # Dramas\n",
    "    {\"title\": \"The Shawshank Redemption\", \"genre\": \"Drama\", \"runtime\": 142},\n",
    "    {\"title\": \"Forrest Gump\", \"genre\": \"Drama\", \"runtime\": 142},\n",
    "    {\"title\": \"The Godfather\", \"genre\": \"Crime\", \"runtime\": 175},\n",
    "    # Sci-Fi\n",
    "    {\"title\": \"The Matrix\", \"genre\": \"Sci-Fi\", \"runtime\": 136},\n",
    "    {\"title\": \"Inception\", \"genre\": \"Sci-Fi\", \"runtime\": 148},\n",
    "    {\"title\": \"Interstellar\", \"genre\": \"Sci-Fi\", \"runtime\": 169},\n",
    "    # Action\n",
    "    {\"title\": \"The Dark Knight\", \"genre\": \"Action\", \"runtime\": 152},\n",
    "    {\"title\": \"Mad Max: Fury Road\", \"genre\": \"Action\", \"runtime\": 120},\n",
    "    # Thrillers\n",
    "    {\"title\": \"The Silence of the Lambs\", \"genre\": \"Thriller\", \"runtime\": 118},\n",
    "    {\"title\": \"Se7en\", \"genre\": \"Thriller\", \"runtime\": 127},\n",
    "    # Add 90+ more movies...\n",
    "]\n",
    "\n",
    "devices = [\"smart-tv\", \"laptop\", \"tablet\", \"mobile\", \"gaming-console\"]\n",
    "age_groups = [\"18-25\", \"26-35\", \"36-45\", \"46-55\", \"56+\"]\n",
    "\n",
    "def generate_viewing_history(movie_runtime, last_watched):\n",
    "    sessions = random.randint(1, 5)\n",
    "    history = []\n",
    "    for _ in range(sessions):\n",
    "        watch_date = last_watched - timedelta(days=random.randint(1, 60))\n",
    "        history.append({\n",
    "            \"timestamp\": watch_date.strftime(\"%Y-%m-%d %H:%M\"),\n",
    "            \"duration_min\": min(movie_runtime, random.randint(20, movie_runtime))\n",
    "        })\n",
    "    return history\n",
    "\n",
    "data = []\n",
    "for user_id in range(1, 501):\n",
    "    movie = random.choice(movies)\n",
    "    watch_count = random.randint(1, 20)\n",
    "    watch_hours = round(watch_count * movie[\"runtime\"] / 60, 1)\n",
    "    last_watched = datetime.now() - timedelta(days=random.randint(1, 90))\n",
    "    rating = random.choice([1, 2, 3, 4, 5, np.nan])\n",
    "    liked = random.choice([True, False])\n",
    "    device = random.choice(devices)\n",
    "    age_group = random.choice(age_groups)\n",
    "    viewing_history = generate_viewing_history(movie[\"runtime\"], last_watched)\n",
    "    \n",
    "    data.append([\n",
    "        f\"U{user_id}\",\n",
    "        movie[\"title\"],\n",
    "        movie[\"genre\"],\n",
    "        watch_count,\n",
    "        watch_hours,\n",
    "        last_watched.strftime(\"%Y-%m-%d %H:%M:%S\"),\n",
    "        rating,\n",
    "        liked,\n",
    "        device,\n",
    "        age_group,\n",
    "        json.dumps(viewing_history)\n",
    "    ])\n",
    "\n",
    "df = pd.DataFrame(data, columns=[\n",
    "    \"user_id\", \"title\", \"genre\", \"watch_count\", \"watch_hours\",\n",
    "    \"last_watched\", \"rating\", \"liked\", \"device\", \"age_group\", \"viewing_history\"\n",
    "])\n",
    "df.to_csv(\"movie_viewing_dataset.csv\", index=False)"
   ]
  },
  {
   "cell_type": "code",
   "execution_count": null,
   "id": "19d5a6a5-af19-443c-ba17-6c195b5babf7",
   "metadata": {},
   "outputs": [],
   "source": []
  }
 ],
 "metadata": {
  "kernelspec": {
   "display_name": "Python 3 (ipykernel)",
   "language": "python",
   "name": "python3"
  },
  "language_info": {
   "codemirror_mode": {
    "name": "ipython",
    "version": 3
   },
   "file_extension": ".py",
   "mimetype": "text/x-python",
   "name": "python",
   "nbconvert_exporter": "python",
   "pygments_lexer": "ipython3",
   "version": "3.13.4"
  }
 },
 "nbformat": 4,
 "nbformat_minor": 5
}
